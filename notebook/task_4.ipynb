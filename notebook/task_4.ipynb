{
 "cells": [
  {
   "cell_type": "code",
   "execution_count": 1,
   "id": "56a33644-2593-4286-a06f-45c2d86dd048",
   "metadata": {},
   "outputs": [
    {
     "name": "stdout",
     "output_type": "stream",
     "text": [
      "Intel MKL WARNING: Support of Intel(R) Streaming SIMD Extensions 4.2 (Intel(R) SSE4.2) enabled only processors has been deprecated. Intel oneAPI Math Kernel Library 2025.0 will require Intel(R) Advanced Vector Extensions (Intel(R) AVX) instructions.\n",
      "Intel MKL WARNING: Support of Intel(R) Streaming SIMD Extensions 4.2 (Intel(R) SSE4.2) enabled only processors has been deprecated. Intel oneAPI Math Kernel Library 2025.0 will require Intel(R) Advanced Vector Extensions (Intel(R) AVX) instructions.\n"
     ]
    }
   ],
   "source": [
    "# Import packages\n",
    "import pandas as pd\n",
    "from sklearn.model_selection import train_test_split\n",
    "from sklearn.impute import SimpleImputer"
   ]
  },
  {
   "cell_type": "code",
   "execution_count": 2,
   "id": "253d288c-3173-4cdb-b96f-563a0519cf96",
   "metadata": {},
   "outputs": [
    {
     "name": "stderr",
     "output_type": "stream",
     "text": [
      "/var/folders/8q/3jn0l2r571s39320x9v3km1c0000gn/T/ipykernel_9889/2914074188.py:3: DtypeWarning: Columns (32,37) have mixed types. Specify dtype option on import or set low_memory=False.\n",
      "  df = pd.read_csv(data_path, delimiter='|')\n"
     ]
    }
   ],
   "source": [
    "# Load data\n",
    "data_path = '../data/MachineLearningRating_v3.txt'\n",
    "df = pd.read_csv(data_path, delimiter='|')"
   ]
  },
  {
   "cell_type": "code",
   "execution_count": 5,
   "id": "fc9f6d32-7adc-4740-a489-48bd8c5ede7c",
   "metadata": {},
   "outputs": [],
   "source": [
    "# Impute or remove missing values\n",
    "imputer = SimpleImputer(strategy='mean')  # Use mean or other strategies\n",
    "df['TotalPremium'] = imputer.fit_transform(df[['TotalPremium']])\n",
    "df['TotalClaims'] = imputer.fit_transform(df[['TotalClaims']])\n",
    "\n",
    "# Drop rows with too many missing values\n",
    "df.dropna(thresh=len(df.columns) - 2, inplace=True)"
   ]
  },
  {
   "cell_type": "code",
   "execution_count": 6,
   "id": "22a0ed7b-6c29-42f1-8268-ad3282370639",
   "metadata": {},
   "outputs": [],
   "source": [
    "# Feature Engineering\n",
    "df['ClaimRatio'] = df['TotalClaims'] / df['TotalPremium']\n",
    "df['PremiumPerCylinder'] = df['TotalPremium'] / df['Cylinders']"
   ]
  },
  {
   "cell_type": "code",
   "execution_count": 7,
   "id": "7f3c95fb-1541-49b4-9f65-9bed44a51a13",
   "metadata": {},
   "outputs": [],
   "source": [
    "data = pd.get_dummies(df, columns=['Province', 'VehicleType', 'Gender'], drop_first=True)"
   ]
  },
  {
   "cell_type": "code",
   "execution_count": 8,
   "id": "a33e40cd-abf8-425f-a1da-489b2ae111d1",
   "metadata": {},
   "outputs": [],
   "source": [
    "# Test Split\n",
    "X = data.drop(['TotalPremium', 'TotalClaims'], axis=1)\n",
    "y = data['TotalPremium']  # Or use TotalClaims for other models\n",
    "X_train, X_test, y_train, y_test = train_test_split(X, y, test_size=0.3, random_state=42)\n"
   ]
  },
  {
   "cell_type": "markdown",
   "id": "3cd0b506-caff-4231-a015-75c2398adb79",
   "metadata": {},
   "source": []
  }
 ],
 "metadata": {
  "kernelspec": {
   "display_name": "Python 3 (ipykernel)",
   "language": "python",
   "name": "python3"
  },
  "language_info": {
   "codemirror_mode": {
    "name": "ipython",
    "version": 3
   },
   "file_extension": ".py",
   "mimetype": "text/x-python",
   "name": "python",
   "nbconvert_exporter": "python",
   "pygments_lexer": "ipython3",
   "version": "3.12.2"
  }
 },
 "nbformat": 4,
 "nbformat_minor": 5
}
