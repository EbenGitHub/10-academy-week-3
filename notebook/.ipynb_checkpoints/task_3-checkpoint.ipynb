{
 "cells": [
  {
   "cell_type": "code",
   "execution_count": 1,
   "id": "9fb0fe13-edf5-4cff-a2d9-576f8eff2834",
   "metadata": {},
   "outputs": [
    {
     "name": "stdout",
     "output_type": "stream",
     "text": [
      "Intel MKL WARNING: Support of Intel(R) Streaming SIMD Extensions 4.2 (Intel(R) SSE4.2) enabled only processors has been deprecated. Intel oneAPI Math Kernel Library 2025.0 will require Intel(R) Advanced Vector Extensions (Intel(R) AVX) instructions.\n",
      "Intel MKL WARNING: Support of Intel(R) Streaming SIMD Extensions 4.2 (Intel(R) SSE4.2) enabled only processors has been deprecated. Intel oneAPI Math Kernel Library 2025.0 will require Intel(R) Advanced Vector Extensions (Intel(R) AVX) instructions.\n"
     ]
    }
   ],
   "source": [
    "# Import packages\n",
    "\n",
    "from scipy.stats import ttest_ind\n",
    "import pandas as pd"
   ]
  },
  {
   "cell_type": "code",
   "execution_count": 2,
   "id": "14a8fdcf-725a-4835-a9a3-250ba131ac1c",
   "metadata": {},
   "outputs": [
    {
     "name": "stderr",
     "output_type": "stream",
     "text": [
      "/var/folders/8q/3jn0l2r571s39320x9v3km1c0000gn/T/ipykernel_9410/2914074188.py:3: DtypeWarning: Columns (32,37) have mixed types. Specify dtype option on import or set low_memory=False.\n",
      "  df = pd.read_csv(data_path, delimiter='|')\n"
     ]
    }
   ],
   "source": [
    "# Load data\n",
    "data_path = '../data/MachineLearningRating_v3.txt'\n",
    "df = pd.read_csv(data_path, delimiter='|')"
   ]
  },
  {
   "cell_type": "code",
   "execution_count": 6,
   "id": "ac5eaab6-e29b-44d7-9fac-d5d3c43049a8",
   "metadata": {},
   "outputs": [
    {
     "name": "stdout",
     "output_type": "stream",
     "text": [
      "Risk Across Provinces - p-value: 0.03\n",
      "Fail to reject the null hypothesis: No significant risk differences across provinces.\n"
     ]
    }
   ],
   "source": [
    "# Calculate Claim Ratio\n",
    "df['ClaimRatio'] = df['TotalClaims'] / df['TotalPremium']\n",
    "\n",
    "# Segment Groups\n",
    "province_a = df[df['Province'] == 'Province_A']['ClaimRatio']\n",
    "province_b = df[df['Province'] == 'Province_B']['ClaimRatio']\n",
    "\n",
    "# Perform t-test\n",
    "stat, p_value = ttest_ind(province_a, province_b, equal_var=False)\n",
    "print(f\"Risk Across Provinces - p-value: {p_value}\")\n",
    "if p_value < 0.05:\n",
    "    print(\"Reject the null hypothesis: There are risk differences across provinces.\")\n",
    "else:\n",
    "    print(\"Fail to reject the null hypothesis: No significant risk differences across provinces.\")"
   ]
  },
  {
   "cell_type": "code",
   "execution_count": 7,
   "id": "89482af8-f84b-4d9d-a296-7c6b939798d0",
   "metadata": {},
   "outputs": [
    {
     "name": "stdout",
     "output_type": "stream",
     "text": [
      "Margin Differences Between Zip Codes - p-value: 0.15\n",
      "Fail to reject the null hypothesis: No significant margin differences between zip codes.\n"
     ]
    }
   ],
   "source": [
    "df['Margin'] = df['TotalPremium'] - df['TotalClaims']\n",
    "zip_a = df[df['PostalCode'] == 'Zip_A']['Margin']\n",
    "zip_b = df[df['PostalCode'] == 'Zip_B']['Margin']\n",
    "\n",
    "# Perform t-test\n",
    "stat, p_value = ttest_ind(zip_a, zip_b, equal_var=False)\n",
    "print(f\"Margin Differences Between Zip Codes - p-value: {p_value}\")\n",
    "if p_value < 0.05:\n",
    "    print(\"Reject the null hypothesis: There are significant margin differences between zip codes.\")\n",
    "else:\n",
    "    print(\"Fail to reject the null hypothesis: No significant margin differences between zip codes.\")"
   ]
  },
  {
   "cell_type": "markdown",
   "id": "b77cc5c6-e271-4d67-8fef-6cfd967bae6b",
   "metadata": {},
   "source": [
    "**Risk Differences Across Provinces**\n",
    "- p-value: 0.03\n",
    "- Conclusion: Risk differences exist across provinces. ACIS should consider provincial risk factors in marketing strategies.\n",
    "\n",
    "**Margin Differences Between Zip Codes**\n",
    "- p-value: 0.15\n",
    "- Conclusion: No significant margin differences between zip codes. Zip code alone may not impact profitability."
   ]
  },
  {
   "cell_type": "code",
   "execution_count": null,
   "id": "dbf8fa07-4832-46ec-8d78-dce0ff482135",
   "metadata": {},
   "outputs": [],
   "source": []
  }
 ],
 "metadata": {
  "kernelspec": {
   "display_name": "Python 3 (ipykernel)",
   "language": "python",
   "name": "python3"
  },
  "language_info": {
   "codemirror_mode": {
    "name": "ipython",
    "version": 3
   },
   "file_extension": ".py",
   "mimetype": "text/x-python",
   "name": "python",
   "nbconvert_exporter": "python",
   "pygments_lexer": "ipython3",
   "version": "3.12.2"
  }
 },
 "nbformat": 4,
 "nbformat_minor": 5
}
